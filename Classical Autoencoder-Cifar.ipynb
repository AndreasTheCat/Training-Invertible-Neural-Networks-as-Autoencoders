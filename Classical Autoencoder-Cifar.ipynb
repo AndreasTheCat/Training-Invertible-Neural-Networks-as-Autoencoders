{
 "cells": [
  {
   "cell_type": "markdown",
   "metadata": {},
   "source": [
    "# Import Packages"
   ]
  },
  {
   "cell_type": "code",
   "execution_count": null,
   "metadata": {},
   "outputs": [],
   "source": [
    "import torch\n",
    "import torchvision\n",
    "from torch import nn\n",
    "from torch.autograd import Variable\n",
    "from torch.utils.data import DataLoader\n",
    "from torchvision import transforms\n",
    "from torchvision.utils import save_image\n",
    "from torchvision.datasets import MNIST\n",
    "import os\n",
    "\n",
    "from functionalities import filemanager as fm\n",
    "from functionalities import dataloader as dl\n",
    "from tqdm import tqdm_notebook as tqdm\n",
    "from functionalities import loss as lo\n",
    "from functionalities import gpu \n",
    "from functionalities import plot as pl\n",
    "\n",
    "from architecture import CIFAR_autoencoder as cifar"
   ]
  },
  {
   "cell_type": "markdown",
   "metadata": {},
   "source": [
    "# Pretrainin Setup"
   ]
  },
  {
   "cell_type": "code",
   "execution_count": null,
   "metadata": {
    "collapsed": true
   },
   "outputs": [],
   "source": [
    "num_epochs = 100\n",
    "batch_size = 128\n",
    "learning_rate = 1e-3\n",
    "milestones = [60, 85, 100]\n",
    "number_dev = 5\n",
    "\n",
    "device = gpu.get_device(number_dev)\n",
    "\n",
    "if not os.path.exists('./dc_img'):\n",
    "    os.mkdir('./dc_img')\n",
    "\n",
    "def to_img(x):\n",
    "    #x = 0.5 * (x + 1)\n",
    "    x = x.clamp(0, 1)\n",
    "    x = x.view(x.size(0), 3, 32, 32)\n",
    "    return x"
   ]
  },
  {
   "cell_type": "code",
   "execution_count": null,
   "metadata": {},
   "outputs": [],
   "source": [
    "trainset, testset, classes = dl.load_cifar()\n",
    "trainloader, validloader, testloader = dl.make_dataloaders(trainset, testset, batch_size)"
   ]
  },
  {
   "cell_type": "markdown",
   "metadata": {},
   "source": [
    "# Training "
   ]
  },
  {
   "cell_type": "code",
   "execution_count": null,
   "metadata": {
    "collapsed": true
   },
   "outputs": [],
   "source": [
    "bottleneck_train_log = []\n",
    "bottleneck_test_log = []    \n",
    "\n",
    "for bottleneck in [2 ** x for x in range(11)]:\n",
    "    print('bottleneck dimension: {}'.format(bottleneck))\n",
    "    model = cifar.cifar_autoencoder(bottleneck).cuda()\n",
    "    #criterion = nn.MSELoss() # l2 loss\n",
    "    #criterion = nn.L1Loss() # l1 loss\n",
    "    optimizer = torch.optim.Adam(model.parameters(), lr=learning_rate, weight_decay=1e-5)\n",
    "    scheduler = torch.optim.lr_scheduler.MultiStepLR(optimizer, milestones=milestones, gamma=0.1)\n",
    "    \n",
    "    train_loss_log = []\n",
    "    test_loss_log = []\n",
    "\n",
    "    for epoch in range(num_epochs):\n",
    "        scheduler.step()\n",
    "        for data in tqdm(trainloader):\n",
    "            img, _ = data\n",
    "            img = Variable(img).cuda()\n",
    "            # ===================forward=====================\n",
    "            output = model(img)\n",
    "            loss = lo.l1_loss(output, img)\n",
    "            # ===================backward====================\n",
    "            optimizer.zero_grad()\n",
    "            loss.backward()\n",
    "            optimizer.step()\n",
    "        # ===================log========================\n",
    "        train_loss_log.append(loss.data.item())\n",
    "        print('epoch [{}/{}], loss:{:.4f}'.format(epoch+1, num_epochs, loss.data.item()))\n",
    "        if epoch % 10 == 0 or epoch == (num_epochs - 1):\n",
    "            pic = to_img(output.cpu().data)\n",
    "            save_image(pic, './dc_img/l1_cifar_image_{}_{}.png'.format(bottleneck, epoch))\n",
    "            \n",
    "        with torch.no_grad():\n",
    "            test_loss = 0\n",
    "            for data in tqdm(testloader):\n",
    "                img, _ = data\n",
    "                img = Variable(img).cuda()\n",
    "                output = model(img)\n",
    "                test_loss += lo.l1_loss(output, img).data.item()\n",
    "            \n",
    "            test_loss /= len(testloader)\n",
    "            test_loss_log.append(test_loss)\n",
    "            print('test loss:{:.4f}'.format(test_loss))\n",
    "            \n",
    "    bottleneck_train_log.append(train_loss_log[-1])\n",
    "    bottleneck_test_log.append(test_loss_log[-1])    \n",
    "\n",
    "    torch.save(model.state_dict(), './l1_cifar_autoencoder_{}.pth'.format(bottleneck))\n",
    "    fm.save_model(model, 'l1_cifar_autoencoder_{}'.format(bottleneck))\n",
    "    fm.save_weight(model, 'l1_cifar_autoencoder_{}'.format(bottleneck))\n",
    "    fm.save_variable([train_loss_log, test_loss_log], 'l1_cifar_autoencoder_{}'.format(bottleneck))\n",
    "    \n",
    "fm.save_variable([bottleneck_train_log, bottleneck_test_log], 'l1_cifar_autoencoder_bottleneck')"
   ]
  },
  {
   "cell_type": "markdown",
   "metadata": {},
   "source": [
    "# Plot Reconstruction and Difference Images Examples"
   ]
  },
  {
   "cell_type": "code",
   "execution_count": null,
   "metadata": {
    "scrolled": false
   },
   "outputs": [],
   "source": [
    "from torch.autograd import Variable\n",
    "import torchvision\n",
    "import matplotlib.pyplot as plt\n",
    "\n",
    "num_img = 100\n",
    "grid_row_size = 10\n",
    "\n",
    "img, label = next(iter(testloader))\n",
    "#img = img.view(img.size(0), -1)\n",
    "img = Variable(img).cuda()\n",
    "\n",
    "for i in [2 ** x for x in range(11)]:\n",
    "    print('bottleneck dimension: {}'.format(i))\n",
    "    model = fm.load_model('l1_cifar_autoencoder_{}'.format(i)).to(device)\n",
    "    output = model(img.to(device))\n",
    "\n",
    "    original = to_img(img.cpu().data) \n",
    "    pic = to_img(output.cpu().data)\n",
    "\n",
    "    print(\"Original Image:\")\n",
    "    pl.imshow(torchvision.utils.make_grid(original[:num_img].detach(), grid_row_size), filename=\"com_classic_cifar_{}_original\".format(i))\n",
    "    print(\"Reconstructed Image:\")\n",
    "    pl.imshow(torchvision.utils.make_grid(pic[:num_img].detach(), grid_row_size), filename=\"com_classic_cifar_{}_reconstructed\".format(i))\n",
    "    print(\"Difference:\")\n",
    "    diff_img = (original - pic + 1) / 2\n",
    "    pl.imshow(torchvision.utils.make_grid(diff_img[:num_img].detach(), grid_row_size), filename=\"com_classic_cifar_{}_difference\".format(i))"
   ]
  },
  {
   "cell_type": "markdown",
   "metadata": {},
   "source": [
    "# Plot Recontruction Loss against Bottleneck Size"
   ]
  },
  {
   "cell_type": "code",
   "execution_count": null,
   "metadata": {
    "collapsed": true
   },
   "outputs": [],
   "source": [
    "train, test = fm.load_variable(\"l1_cifar_autoencoder_bottleneck\")\n",
    "y = [train, test]\n",
    "x = []\n",
    "\n",
    "pl.plot([2 ** x for x in range(11)], y, 'latent dimension', 'loss', ['train', 'test'], 'Train & Test Reconstruction Loss History', 'loss_l1_cifar_lin_bottleneck') "
   ]
  }
 ],
 "metadata": {
  "kernelspec": {
   "display_name": "Python 3",
   "language": "python",
   "name": "python3"
  },
  "language_info": {
   "codemirror_mode": {
    "name": "ipython",
    "version": 3
   },
   "file_extension": ".py",
   "mimetype": "text/x-python",
   "name": "python",
   "nbconvert_exporter": "python",
   "pygments_lexer": "ipython3",
   "version": "3.6.5"
  }
 },
 "nbformat": 4,
 "nbformat_minor": 2
}
