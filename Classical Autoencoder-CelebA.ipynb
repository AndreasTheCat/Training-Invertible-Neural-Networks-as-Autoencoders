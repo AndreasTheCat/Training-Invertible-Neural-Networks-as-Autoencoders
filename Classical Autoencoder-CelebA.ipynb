{
 "cells": [
  {
   "cell_type": "markdown",
   "metadata": {},
   "source": [
    "# Import Packages"
   ]
  },
  {
   "cell_type": "code",
   "execution_count": null,
   "metadata": {},
   "outputs": [],
   "source": [
    "import torch\n",
    "import torchvision\n",
    "from torch import nn\n",
    "from torch.autograd import Variable\n",
    "from torch.utils.data import DataLoader\n",
    "from torchvision.datasets import ImageFolder\n",
    "from torchvision import transforms\n",
    "from torchvision.utils import save_image\n",
    "from torchvision.datasets import MNIST\n",
    "import os\n",
    "\n",
    "from functionalities import filemanager as fm\n",
    "from functionalities import dataloader as dl\n",
    "from tqdm import tqdm_notebook as tqdm\n",
    "from functionalities import loss as lo\n",
    "from functionalities import plot as pl\n",
    "\n",
    "from architecture import CelebA_autoencoder as celeba"
   ]
  },
  {
   "cell_type": "markdown",
   "metadata": {},
   "source": [
    "# Pretraining Setup"
   ]
  },
  {
   "cell_type": "code",
   "execution_count": null,
   "metadata": {},
   "outputs": [],
   "source": [
    "\n",
    "\n",
    "\n",
    "\n",
    "if not os.path.exists('./celeb_img'):\n",
    "    os.mkdir('./celeb_img')\n",
    "\n",
    "number_dev = 3\n",
    "if torch.cuda.is_available():\n",
    "    torch.cuda.set_device(number_dev)\n",
    "    device = 'cuda'\n",
    "else:\n",
    "    device = 'cpu'\n",
    "    \n",
    "print(device)\n",
    "\n",
    "def to_img(x):\n",
    "    #x = 0.5 * (x + 1)\n",
    "    x = x.clamp(0, 1)\n",
    "    x = x.view(x.size(0), 3, 218, 178)\n",
    "    return x\n",
    "\n",
    "\n",
    "num_epochs = 10\n",
    "batch_size = 32\n",
    "learning_rate = 1e-3\n",
    "image_size = 178\n",
    "milestones = [8, 9, 10]\n",
    "\n",
    "IMAGE_PATH = './img_align_celeba/'\n",
    "transform = transforms.Compose([\n",
    "    #transforms.Scale(image_size),\n",
    "    #transforms.Resize(image_size),\n",
    "    transforms.ToTensor(),\n",
    "    #transforms.Normalize((0.5, 0.5, 0.5), (0.5, 0.5, 0.5))\n",
    "])\n",
    "dataset = ImageFolder(IMAGE_PATH, transform)\n",
    "trainloader, testloader = dl.split_dataset(dataset, 0.2, batch_size, False)\n",
    "#data_loader = DataLoader(dataset=dataset, batch_size=batch_size, shuffle=True, num_workers=8, drop_last=True)\n",
    "\n",
    "#trainset, testset, classes = dl.load_cifar()\n",
    "#trainloader, validloader, testloader = dl.make_dataloaders(trainset, testset, batch_size)\n",
    "\n",
    "\n",
    "#img_transform = transforms.Compose([\n",
    "#    transforms.ToTensor(),\n",
    "#    transforms.Normalize((0.5, 0.5, 0.5), (0.5, 0.5, 0.5))\n",
    "#])\n",
    "\n",
    "#dataset = MNIST('./datasets/mnist', transform=img_transform)\n",
    "#dataloader = DataLoader(dataset, batch_size=batch_size, shuffle=True)"
   ]
  },
  {
   "cell_type": "markdown",
   "metadata": {},
   "source": [
    "# Training"
   ]
  },
  {
   "cell_type": "code",
   "execution_count": null,
   "metadata": {},
   "outputs": [],
   "source": [
    "\n",
    "\n",
    "\n",
    "bottleneck_train_log = []\n",
    "bottleneck_test_log = []    \n",
    "\n",
    "for bottleneck in [2 ** x for x in range(0, 14, 2)]: #[2 ** x for x in range(0, 15, 2)]:\n",
    "    print('bottleneck dimension: {}'.format(bottleneck))\n",
    "    model = celeba.celeba_autoencoder(bottleneck).cuda()\n",
    "    #criterion = nn.MSELoss() # l2 loss\n",
    "    #criterion = nn.L1Loss() # l1 loss\n",
    "    optimizer = torch.optim.Adam(model.parameters(), lr=learning_rate, weight_decay=1e-5)\n",
    "    scheduler = torch.optim.lr_scheduler.MultiStepLR(optimizer, milestones=milestones, gamma=0.1)\n",
    "    \n",
    "    train_loss_log = []\n",
    "    test_loss_log = []\n",
    "\n",
    "    for epoch in range(num_epochs):\n",
    "        scheduler.step()\n",
    "        for data in tqdm(trainloader):\n",
    "            img, _ = data\n",
    "            img = Variable(img).cuda()\n",
    "            # ===================forward=====================\n",
    "            output = model(img)\n",
    "            loss = lo.l1_loss(output, img)\n",
    "            # ===================backward====================\n",
    "            optimizer.zero_grad()\n",
    "            loss.backward()\n",
    "            optimizer.step()\n",
    "        # ===================log========================\n",
    "        train_loss_log.append(loss.data.item())\n",
    "        print('epoch [{}/{}], loss:{:.4f}'.format(epoch+1, num_epochs, loss.data.item()))\n",
    "        if epoch % 2 == 0 or epoch == (num_epochs - 1):\n",
    "            pic = to_img(output.cpu().data)\n",
    "            save_image(pic, './celeb_img/l1_lin_image_{}_{}.png'.format(bottleneck, epoch))\n",
    "            \n",
    "        with torch.no_grad():\n",
    "            test_loss = 0\n",
    "            for data in tqdm(testloader):\n",
    "                img, _ = data\n",
    "                img = Variable(img).cuda()\n",
    "                output = model(img)\n",
    "                test_loss += lo.l1_loss(output, img).data.item()\n",
    "            \n",
    "            test_loss /= len(testloader)\n",
    "            test_loss_log.append(test_loss)\n",
    "            print('test loss:{:.4f}'.format(test_loss))\n",
    "    \n",
    "            \n",
    "    bottleneck_train_log.append(train_loss_log[-1])\n",
    "    bottleneck_test_log.append(test_loss_log[-1])    \n",
    "\n",
    "    fm.save_model(model, 'l1_lin_celebA_autoencoder_{}'.format(bottleneck))\n",
    "    fm.save_weight(model, 'l1_lin_celebA_autoencoder_{}'.format(bottleneck))\n",
    "    fm.save_variable([train_loss_log, test_loss_log], 'l1_lin_celebA_autoencoder_{}'.format(bottleneck))\n",
    "    \n",
    "fm.save_variable([bottleneck_train_log, bottleneck_test_log], 'l1_lin_celebA_autoencoder_bottleneck')"
   ]
  },
  {
   "cell_type": "markdown",
   "metadata": {},
   "source": [
    "# Plot Reconstruction and Difference Images Examples"
   ]
  },
  {
   "cell_type": "code",
   "execution_count": null,
   "metadata": {},
   "outputs": [],
   "source": [
    "from torch.autograd import Variable\n",
    "import torchvision\n",
    "import matplotlib.pyplot as plt\n",
    "\n",
    "num_img = 25\n",
    "grid_row_size = 5\n",
    "\n",
    "img, label = next(iter(testloader))\n",
    "#img = img.view(img.size(0), -1)\n",
    "img = Variable(img).cuda()\n",
    "\n",
    "for i in [2 ** x for x in range(0, 14, 2)]:\n",
    "    print('bottleneck dimension: {}'.format(i))\n",
    "    model = fm.load_model('l1_lin_celebA_autoencoder_{}'.format(i)).to(device)\n",
    "    output = model(img.to(device))\n",
    "\n",
    "    original = to_img(img.cpu().data) \n",
    "    pic = to_img(output.cpu().data)\n",
    "\n",
    "    print(\"Original Image:\")\n",
    "    pl.imshow(torchvision.utils.make_grid(original[:num_img].detach(), grid_row_size), filename=\"com_classic_celeba_{}_original\".format(i))\n",
    "    print(\"Reconstructed Image:\")\n",
    "    pl.imshow(torchvision.utils.make_grid(pic[:num_img].detach(), grid_row_size), filename=\"com_classic_celeba_{}_reconstructed\".format(i))\n",
    "    print(\"Difference:\")\n",
    "    diff_img = (original - pic + 1) / 2\n",
    "    pl.imshow(torchvision.utils.make_grid(diff_img[:num_img].detach(), grid_row_size), filename=\"com_classic_celeba_{}_difference\".format(i))"
   ]
  },
  {
   "cell_type": "code",
   "execution_count": null,
   "metadata": {},
   "outputs": [],
   "source": [
    "import matplotlib.pyplot as plt\n",
    "import numpy as np\n",
    "from functionalities import plot as pl\n",
    "\n",
    "def imshow(img, figsize=(30, 30), filename=None):\n",
    "    \"\"\"\n",
    "    Custom modified imshow function.\n",
    "\n",
    "    :param img: image to plot\n",
    "    :param figsize: the size of the generated plot\n",
    "    :param filename: file name under which the plot will be saved. (optional)\n",
    "    :return: None\n",
    "    \"\"\"\n",
    "    img = torch.clamp(img, 0, 1)\n",
    "    npimg = img.numpy()\n",
    "    plt.figsize = figsize\n",
    "    plt.imshow(np.transpose(npimg, (1, 2, 0)))\n",
    "\n",
    "    if filename is not None:\n",
    "        subdir = \"./plot\"\n",
    "        if not os.path.exists(subdir):\n",
    "            os.makedirs(subdir)\n",
    "\n",
    "        plt.savefig(os.path.join(subdir, filename + \".png\"))\n",
    "\n",
    "    plt.show()"
   ]
  },
  {
   "cell_type": "code",
   "execution_count": null,
   "metadata": {
    "collapsed": true
   },
   "outputs": [],
   "source": [
    "from torchvision import transforms\n",
    "from torchvision.datasets import ImageFolder\n",
    "from functionalities import dataloader as dl\n",
    "from functionalities import filemanager as fm\n",
    "\n",
    "num_epochs = 20\n",
    "batch_size = 128\n",
    "learning_rate = 1e-3\n",
    "image_size = 178\n",
    "\n",
    "IMAGE_PATH = './img_align_celeba/'\n",
    "transform = transforms.Compose([\n",
    "    #transforms.Scale(image_size),\n",
    "    #transforms.Resize(image_size),\n",
    "    transforms.ToTensor(),\n",
    "    #transforms.Normalize((0.5, 0.5, 0.5), (0.5, 0.5, 0.5))\n",
    "])\n",
    "dataset = ImageFolder(IMAGE_PATH, transform)\n",
    "trainloader, testloader = dl.split_dataset(dataset, 0.2, batch_size, False)"
   ]
  },
  {
   "cell_type": "code",
   "execution_count": null,
   "metadata": {
    "collapsed": true
   },
   "outputs": [],
   "source": [
    "from torch import nn\n",
    "\n",
    "class autoencoder(nn.Module):\n",
    "    def __init__(self, bottleneck=500): # input: 3, 218, 178 (original: 3, 218, 178)\n",
    "        super(autoencoder, self).__init__()\n",
    "        self.encoder = nn.Sequential(\n",
    "            nn.Conv2d(3, 128, 4, stride=2, padding=0),  # b, 128, 108, 88 \n",
    "            nn.ReLU(True),\n",
    "            nn.MaxPool2d(2, stride=2, padding=1),  # b, 128, 54, 44\n",
    "            nn.Conv2d(128, 128*2, 4, stride=2, padding=(0,1)),  # b, 256, 26, 22\n",
    "            nn.ReLU(True),\n",
    "            nn.Conv2d(128*2, 128*4, 4, stride=2, padding=0), # b, 512, 12, 10\n",
    "            nn.ReLU(True),\n",
    "            nn.Conv2d(128*4, 128*8, 4, stride=2, padding=0), # b, 1024, 5, 4\n",
    "            nn.ReLU(True), \n",
    "            nn.Conv2d(128*8, bottleneck, 4, stride=1, padding=1) # b, bottleneck, 4, 3\n",
    "        )\n",
    "        self.decoder = nn.Sequential(\n",
    "            nn.ConvTranspose2d(bottleneck, 512, 5, stride=2),  # b, 512, 11, 9\n",
    "            nn.ReLU(True),\n",
    "            nn.ConvTranspose2d(512, 256, 5, stride=2),  # b, 256, 25, 21\n",
    "            nn.ReLU(True),\n",
    "            nn.ConvTranspose2d(256, 128, 5, stride=2, padding=(0,1)),  # b, 128, 53, 43\n",
    "            nn.ReLU(True), \n",
    "            nn.ConvTranspose2d(128, 64, 4, stride=2), # b, 64, 108, 88\n",
    "            nn.ReLU(True), \n",
    "            nn.ConvTranspose2d(64, 3, 4, stride=2), # b, 3, 218, 178\n",
    "            nn.Tanh()\n",
    "        )\n",
    "\n",
    "    def forward(self, x):\n",
    "        x = self.encoder(x)\n",
    "        x = self.decoder(x)\n",
    "        return x"
   ]
  },
  {
   "cell_type": "code",
   "execution_count": null,
   "metadata": {
    "collapsed": true
   },
   "outputs": [],
   "source": [
    "def to_img(x):\n",
    "    #x = 0.5 * (x + 1)\n",
    "    x = x.clamp(0, 1)\n",
    "    x = x.view(x.size(0), 3, 218, 178)\n",
    "    return x"
   ]
  },
  {
   "cell_type": "code",
   "execution_count": null,
   "metadata": {
    "collapsed": true
   },
   "outputs": [],
   "source": [
    "import torch\n",
    "\n",
    "number_dev = 2\n",
    "if torch.cuda.is_available():\n",
    "    torch.cuda.set_device(number_dev)\n",
    "    device = 'cuda'\n",
    "else:\n",
    "    device = 'cpu'"
   ]
  },
  {
   "cell_type": "code",
   "execution_count": null,
   "metadata": {
    "collapsed": true,
    "scrolled": false
   },
   "outputs": [],
   "source": [
    "from torch.autograd import Variable\n",
    "import torchvision\n",
    "\n",
    "num_img = 100\n",
    "grid_row_size = 10\n",
    "\n",
    "img, label = next(iter(testloader))\n",
    "#img = img.view(img.size(0), -1)\n",
    "img = Variable(img).cuda()\n",
    "\n",
    "for i in [2 ** x for x in range(14)]:\n",
    "    print('bottleneck dimension: {}'.format(i))\n",
    "    model = fm.load_model('l1_lin_celebA_autoencoder_{}'.format(i)).to(device)\n",
    "    output = model(img.to(device))\n",
    "\n",
    "    original = to_img(img.cpu().data) \n",
    "    pic = to_img(output.cpu().data)\n",
    "\n",
    "    print(\"Original Image:\")\n",
    "    imshow(torchvision.utils.make_grid(original[:num_img].detach(), grid_row_size))\n",
    "    print(\"Reconstructed Image:\")\n",
    "    imshow(torchvision.utils.make_grid(pic[:num_img].detach(), grid_row_size))\n",
    "    print(\"Difference:\")\n",
    "    diff_img = (original - pic + 1) / 2\n",
    "    imshow(torchvision.utils.make_grid(diff_img[:num_img].detach(), grid_row_size))"
   ]
  },
  {
   "cell_type": "code",
   "execution_count": null,
   "metadata": {},
   "outputs": [],
   "source": [
    "train, test = fm.load_variable(\"l1_lin_celebA_autoencoder_bottleneck\")\n",
    "y = [train, test]\n",
    "\n",
    "pl.plot([2 ** x for x in range(14)], y, 'latent dimension', 'loss', ['train', 'test'], 'Train & Test Reconstruction Loss History', 'loss_l1_celebA_bottleneck') "
   ]
  },
  {
   "cell_type": "markdown",
   "metadata": {},
   "source": [
    "# Plot Recontruction Loss against Bottleneck Size"
   ]
  },
  {
   "cell_type": "code",
   "execution_count": null,
   "metadata": {},
   "outputs": [],
   "source": [
    "train, test = fm.load_variable(\"l1_lin_celebA_autoencoder_bottleneck\")\n",
    "y = [train, test]\n",
    "\n",
    "pl.plot([2 ** x for x in range(7)], y, 'latent dimension', 'loss', ['train', 'test'], 'Train & Test Reconstruction Loss History', 'loss_l1_celebA_bottleneck') "
   ]
  },
  {
   "cell_type": "code",
   "execution_count": null,
   "metadata": {
    "collapsed": true
   },
   "outputs": [],
   "source": []
  }
 ],
 "metadata": {
  "kernelspec": {
   "display_name": "Python 3",
   "language": "python",
   "name": "python3"
  },
  "language_info": {
   "codemirror_mode": {
    "name": "ipython",
    "version": 3
   },
   "file_extension": ".py",
   "mimetype": "text/x-python",
   "name": "python",
   "nbconvert_exporter": "python",
   "pygments_lexer": "ipython3",
   "version": "3.6.5"
  }
 },
 "nbformat": 4,
 "nbformat_minor": 2
}
